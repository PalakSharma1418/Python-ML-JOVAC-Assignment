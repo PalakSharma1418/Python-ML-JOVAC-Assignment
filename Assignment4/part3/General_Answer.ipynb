{
 "cells": [
  {
   "cell_type": "markdown",
   "id": "491d3a1a-18db-4eb9-be5e-c231d3bdeb0d",
   "metadata": {},
   "source": [
    "## 1. What are the assumptions of linear regression? \n",
    "\n",
    "Linear regression assumes the following:\n",
    "\n",
    "Linearity: Relationship between independent and dependent variables is linear.\n",
    "\n",
    "Independence: Observations are independent of each other.\n",
    "\n",
    "Homoscedasticity: Constant variance of residuals across all levels of independent variables.\n",
    "\n",
    "Normality of Errors: Residuals (errors) are normally distributed.\n",
    "\n",
    "No Multicollinearity: Independent variables are not highly correlated with each other.\n",
    "\n"
   ]
  },
  {
   "cell_type": "markdown",
   "id": "880b4e51-0875-4c53-bdfb-7ea454c43d0c",
   "metadata": {
    "jp-MarkdownHeadingCollapsed": true
   },
   "source": [
    "## 2. When should you use logistic regression instead of linear regression? \n",
    "\n",
    "Use logistic regression when:\n",
    "\n",
    "The dependent variable is categorical, especially binary (e.g., 0/1, yes/no).\n",
    "\n",
    "You want to model probabilities of class membership.\n",
    "\n",
    "The output must be between 0 and 1 (as a probability), which linear regression cannot guarantee.\n",
    "\n"
   ]
  },
  {
   "cell_type": "markdown",
   "id": "e1f262b4-48ed-4553-b208-3ae69ae372c9",
   "metadata": {},
   "source": [
    "## 3. What is the interpretation of coefficients in logistic regression?\n",
    "\n",
    "- The coefficient shows how much the odds change when a feature increases.\n",
    "\n",
    "- If you increase a feature by 1, the chance of outcome (like getting 1) goes up or down."
   ]
  },
  {
   "cell_type": "markdown",
   "id": "27117d66-8f08-4668-88ec-c6f90adfaf4e",
   "metadata": {},
   "source": [
    "## 4. What is the difference between sigmoid and softmax functions? \n",
    "\n",
    "- **Sigmoid:** Used for two-class problems (gives one value between 0 and 1).\n",
    "\n",
    "- **Softmax:** Used for multi-class problems (gives a set of probabilities that add to 1)"
   ]
  },
  {
   "cell_type": "markdown",
   "id": "4115389e-7ec8-44ed-93de-a7817b8d2376",
   "metadata": {},
   "source": [
    "## 5. Why is R-squared not suitable for evaluating logistic regression models?\n",
    "\n",
    "R-squared is not suitable because:\n",
    "\n",
    "It's based on the sum of squared errors, which assumes a continuous dependent variable.\n",
    "\n",
    "Logistic regression predicts probabilities for categorical outcomes, not continuous values.\n",
    "\n",
    "Instead, use metrics suited for classification, like:\n",
    "\n",
    "Accuracy\n",
    "\n",
    "Precision, Recall, F1-score\n",
    "\n",
    "AUC-ROC\n",
    "\n",
    "Log Loss"
   ]
  }
 ],
 "metadata": {
  "kernelspec": {
   "display_name": "Python 3",
   "language": "python",
   "name": "python3"
  },
  "language_info": {
   "codemirror_mode": {
    "name": "ipython",
    "version": 3
   },
   "file_extension": ".py",
   "mimetype": "text/x-python",
   "name": "python",
   "nbconvert_exporter": "python",
   "pygments_lexer": "ipython3",
   "version": "3.12.1"
  }
 },
 "nbformat": 4,
 "nbformat_minor": 5
}
